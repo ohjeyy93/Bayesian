{
 "cells": [
  {
   "cell_type": "code",
   "execution_count": null,
   "metadata": {},
   "outputs": [],
   "source": [
    "def calculate_loglikelihood(v1,v2,p1,p2,ploid):\n",
    "    n1 = len(p1)\n",
    "    n2 = len(p2)\n",
    "    loglikelihood0=sum(log(p1))+sum(log(p2))\n",
    "    for x in range(n1):\n",
    "        for y in range(n2):\n",
    "            if v1[x] == v2[y] and len(v1)>1 and len(v2)>2:\n",
    "                loglikelihood1=log(sum(sum(1/n1/n2*exp((sum(log(p1[-i]))+sum(log(p2)))))))\n",
    "            else: \n",
    "                loglikelihood1=0\n",
    "    pairs1=list(itertools.combinations(v1, 2))\n",
    "    pairs2=list(itertools.combinations(v2, 2))\n",
    "    npairs1 = len(pairs1)\n",
    "    npairs2 = len(pairs2)\n",
    "    for x in range(npairs1):\n",
    "        for y in range(npairs2):\n",
    "            if sum[x] == v2[y] and len(v1)>1 and len(v2)>2:\n",
    "                loglikelihood1=log(sum(sum(1/npairs1/npairs2*exp((sum(log(p1[-i]))+sum(log(p2)))))))\n",
    "            else: \n",
    "                loglikelihood1=0\n",
    "    \n"
   ]
  }
 ],
 "metadata": {
  "kernelspec": {
   "display_name": "Python 3",
   "language": "python",
   "name": "python3"
  },
  "language_info": {
   "codemirror_mode": {
    "name": "ipython",
    "version": 3
   },
   "file_extension": ".py",
   "mimetype": "text/x-python",
   "name": "python",
   "nbconvert_exporter": "python",
   "pygments_lexer": "ipython3",
   "version": "3.7.6"
  }
 },
 "nbformat": 4,
 "nbformat_minor": 4
}
